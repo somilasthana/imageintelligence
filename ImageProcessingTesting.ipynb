{
 "cells": [
  {
   "cell_type": "code",
   "execution_count": 37,
   "metadata": {
    "collapsed": true
   },
   "outputs": [],
   "source": [
    "from flask import Flask,render_template, request,json"
   ]
  },
  {
   "cell_type": "code",
   "execution_count": 49,
   "metadata": {
    "collapsed": true
   },
   "outputs": [],
   "source": [
    "import requests\n",
    "final_url='http://104.155.192.1:8080/simpleimageclassify'"
   ]
  },
  {
   "cell_type": "markdown",
   "metadata": {},
   "source": [
    "# Testing Image Processing Service"
   ]
  },
  {
   "cell_type": "markdown",
   "metadata": {},
   "source": [
    "Payload with \n",
    "1. One bad url another good one\n",
    "2. Threshold setting"
   ]
  },
  {
   "cell_type": "code",
   "execution_count": 59,
   "metadata": {
    "collapsed": false
   },
   "outputs": [
    {
     "name": "stdout",
     "output_type": "stream",
     "text": [
      "{\n",
      "    \"images\": [\n",
      "        \"https://badurl.com/image3.jpg\", \n",
      "        \"http://s1.thingpic.com/images/u8/CnLK3cjoJ2pLxftUbTHQ8Ahs.jpeg\"\n",
      "    ], \n",
      "    \"threshold\": 0.001\n",
      "}\n"
     ]
    }
   ],
   "source": [
    "payload = '{ \"images\": [ \"https://badurl.com/image3.jpg\", \"http://s1.thingpic.com/images/u8/CnLK3cjoJ2pLxftUbTHQ8Ahs.jpeg\"], \"threshold\" : 0.001}'\n",
    "\n",
    "jpayload = json.loads(payload)\n",
    "print json.dumps(jpayload, indent=4, sort_keys=True)"
   ]
  },
  {
   "cell_type": "code",
   "execution_count": 60,
   "metadata": {
    "collapsed": false
   },
   "outputs": [
    {
     "name": "stdout",
     "output_type": "stream",
     "text": [
      "(200, 'OK')\n"
     ]
    }
   ],
   "source": [
    "response = requests.post(final_url, data=payload)\n",
    "print(response.status_code, response.reason) #HTTP"
   ]
  },
  {
   "cell_type": "code",
   "execution_count": 61,
   "metadata": {
    "collapsed": false
   },
   "outputs": [
    {
     "name": "stdout",
     "output_type": "stream",
     "text": [
      "{\n",
      "    \"results\": [\n",
      "        {\n",
      "            \"classes\": [], \n",
      "            \"error\": \"IMAGE_DOWNLOAD_ERROR\", \n",
      "            \"url\": \"https://badurl.com/image3.jpg\"\n",
      "        }, \n",
      "        {\n",
      "            \"classes\": [\n",
      "                {\n",
      "                    \"class\": \"indigo_bunting\", \n",
      "                    \"confidence\": \"0.994\"\n",
      "                }, \n",
      "                {\n",
      "                    \"class\": \"hummingbird\", \n",
      "                    \"confidence\": \"0.004\"\n",
      "                }, \n",
      "                {\n",
      "                    \"class\": \"european_gallinule\", \n",
      "                    \"confidence\": \"0.001\"\n",
      "                }\n",
      "            ], \n",
      "            \"url\": \"http://s1.thingpic.com/images/u8/CnLK3cjoJ2pLxftUbTHQ8Ahs.jpeg\"\n",
      "        }\n",
      "    ], \n",
      "    \"status\": \"INPUT_VALIDATION_SUCCESS\"\n",
      "}\n"
     ]
    }
   ],
   "source": [
    "parsed = json.loads(response.text) #TEXT/HTML\n",
    "print json.dumps(parsed, indent=4, sort_keys=True)"
   ]
  },
  {
   "cell_type": "code",
   "execution_count": null,
   "metadata": {
    "collapsed": true
   },
   "outputs": [],
   "source": []
  },
  {
   "cell_type": "markdown",
   "metadata": {},
   "source": [
    "Payload with \n",
    "1. same url \n",
    "2. missing threshold "
   ]
  },
  {
   "cell_type": "code",
   "execution_count": 56,
   "metadata": {
    "collapsed": false
   },
   "outputs": [
    {
     "name": "stdout",
     "output_type": "stream",
     "text": [
      "{\n",
      "    \"images\": [\n",
      "        \"https://badurl.com/image3.jpg\", \n",
      "        \"http://s1.thingpic.com/images/u8/CnLK3cjoJ2pLxftUbTHQ8Ahs.jpeg\"\n",
      "    ]\n",
      "}\n"
     ]
    }
   ],
   "source": [
    "payload = '{ \"images\": [ \"https://badurl.com/image3.jpg\", \"http://s1.thingpic.com/images/u8/CnLK3cjoJ2pLxftUbTHQ8Ahs.jpeg\"]}'\n",
    "\n",
    "jpayload = json.loads(payload)\n",
    "print json.dumps(jpayload, indent=4, sort_keys=True)"
   ]
  },
  {
   "cell_type": "code",
   "execution_count": 57,
   "metadata": {
    "collapsed": false
   },
   "outputs": [
    {
     "name": "stdout",
     "output_type": "stream",
     "text": [
      "(200, 'OK')\n"
     ]
    }
   ],
   "source": [
    "response = requests.post(final_url, data=payload)\n",
    "print(response.status_code, response.reason) #HTTP "
   ]
  },
  {
   "cell_type": "code",
   "execution_count": 58,
   "metadata": {
    "collapsed": false
   },
   "outputs": [
    {
     "name": "stdout",
     "output_type": "stream",
     "text": [
      "{\n",
      "    \"results\": [\n",
      "        {\n",
      "            \"classes\": [], \n",
      "            \"error\": \"IMAGE_DOWNLOAD_ERROR\", \n",
      "            \"url\": \"https://badurl.com/image3.jpg\"\n",
      "        }, \n",
      "        {\n",
      "            \"classes\": [\n",
      "                {\n",
      "                    \"class\": \"indigo_bunting\", \n",
      "                    \"confidence\": \"0.994\"\n",
      "                }, \n",
      "                {\n",
      "                    \"class\": \"hummingbird\", \n",
      "                    \"confidence\": \"0.004\"\n",
      "                }, \n",
      "                {\n",
      "                    \"class\": \"european_gallinule\", \n",
      "                    \"confidence\": \"0.001\"\n",
      "                }, \n",
      "                {\n",
      "                    \"class\": \"bee_eater\", \n",
      "                    \"confidence\": \"0.001\"\n",
      "                }, \n",
      "                {\n",
      "                    \"class\": \"house_finch\", \n",
      "                    \"confidence\": \"0.0\"\n",
      "                }\n",
      "            ], \n",
      "            \"url\": \"http://s1.thingpic.com/images/u8/CnLK3cjoJ2pLxftUbTHQ8Ahs.jpeg\"\n",
      "        }\n",
      "    ], \n",
      "    \"status\": \"INPUT_VALIDATION_SUCCESS\"\n",
      "}\n"
     ]
    }
   ],
   "source": [
    "parsed = json.loads(response.text) #TEXT/HTML\n",
    "print json.dumps(parsed, indent=4, sort_keys=True) # threshold value setting is optional"
   ]
  },
  {
   "cell_type": "code",
   "execution_count": null,
   "metadata": {
    "collapsed": true
   },
   "outputs": [],
   "source": []
  },
  {
   "cell_type": "markdown",
   "metadata": {},
   "source": [
    "Payload with \n",
    "1. All bad urls"
   ]
  },
  {
   "cell_type": "code",
   "execution_count": null,
   "metadata": {
    "collapsed": true
   },
   "outputs": [],
   "source": [
    "payload = '{ \"images\": [ \"https://badurl.com/image3.jpg\", \"http://example.com/image2.jpeg\", \"http://example.com/image1.jpg\"]}'\n",
    "\n",
    "jpayload = json.loads(payload)\n",
    "print json.dumps(jpayload, indent=4, sort_keys=True)"
   ]
  },
  {
   "cell_type": "code",
   "execution_count": 64,
   "metadata": {
    "collapsed": false
   },
   "outputs": [
    {
     "name": "stdout",
     "output_type": "stream",
     "text": [
      "(200, 'OK')\n"
     ]
    }
   ],
   "source": [
    "response = requests.post(final_url, data=payload)\n",
    "print(response.status_code, response.reason) #HTTP - The API call succeeded therefore 200 - 0k"
   ]
  },
  {
   "cell_type": "code",
   "execution_count": 65,
   "metadata": {
    "collapsed": false
   },
   "outputs": [
    {
     "name": "stdout",
     "output_type": "stream",
     "text": [
      "{\n",
      "    \"results\": [\n",
      "        {\n",
      "            \"classes\": [], \n",
      "            \"error\": \"IMAGE_DOWNLOAD_ERROR\", \n",
      "            \"url\": \"https://badurl.com/image3.jpg\"\n",
      "        }, \n",
      "        {\n",
      "            \"classes\": [], \n",
      "            \"error\": \"IMAGE_DOWNLOAD_ERROR\", \n",
      "            \"url\": \"http://example.com/image1.jpg\"\n",
      "        }, \n",
      "        {\n",
      "            \"classes\": [], \n",
      "            \"error\": \"IMAGE_DOWNLOAD_ERROR\", \n",
      "            \"url\": \"http://example.com/image2.jpeg\"\n",
      "        }\n",
      "    ], \n",
      "    \"status\": \"INPUT_VALIDATION_SUCCESS\"\n",
      "}\n"
     ]
    }
   ],
   "source": [
    "parsed = json.loads(response.text) #TEXT/HTML\n",
    "print json.dumps(parsed, indent=4, sort_keys=True) # Although urls were bad input to our API was correct therefore status"
   ]
  },
  {
   "cell_type": "code",
   "execution_count": null,
   "metadata": {
    "collapsed": true
   },
   "outputs": [],
   "source": []
  },
  {
   "cell_type": "markdown",
   "metadata": {},
   "source": [
    "Payload with \n",
    "1. Malformed no input "
   ]
  },
  {
   "cell_type": "code",
   "execution_count": 67,
   "metadata": {
    "collapsed": false
   },
   "outputs": [
    {
     "name": "stdout",
     "output_type": "stream",
     "text": [
      "{\n",
      "    \"images\": []\n",
      "}\n"
     ]
    }
   ],
   "source": [
    "payload = '{ \"images\": []}'\n",
    "\n",
    "jpayload = json.loads(payload)\n",
    "print json.dumps(jpayload, indent=4, sort_keys=True)"
   ]
  },
  {
   "cell_type": "code",
   "execution_count": 68,
   "metadata": {
    "collapsed": false
   },
   "outputs": [
    {
     "name": "stdout",
     "output_type": "stream",
     "text": [
      "(200, 'OK')\n"
     ]
    }
   ],
   "source": [
    "response = requests.post(final_url, data=payload)\n",
    "print(response.status_code, response.reason) #HTTP - The API call succeeded therefore 200 - 0k"
   ]
  },
  {
   "cell_type": "code",
   "execution_count": 69,
   "metadata": {
    "collapsed": false
   },
   "outputs": [
    {
     "name": "stdout",
     "output_type": "stream",
     "text": [
      "{\n",
      "    \"results\": [], \n",
      "    \"status\": \"EMPTY_IMAGE_FIELD\"\n",
      "}\n"
     ]
    }
   ],
   "source": [
    "parsed = json.loads(response.text) #TEXT/HTML\n",
    "print json.dumps(parsed, indent=4, sort_keys=True) # status changed because image field was empty"
   ]
  },
  {
   "cell_type": "code",
   "execution_count": null,
   "metadata": {
    "collapsed": true
   },
   "outputs": [],
   "source": []
  },
  {
   "cell_type": "markdown",
   "metadata": {},
   "source": [
    "Payload with\n",
    "1. Missing Images field"
   ]
  },
  {
   "cell_type": "code",
   "execution_count": 71,
   "metadata": {
    "collapsed": false
   },
   "outputs": [
    {
     "name": "stdout",
     "output_type": "stream",
     "text": [
      "{\n",
      "    \"threshold\": 0.001\n",
      "}\n"
     ]
    }
   ],
   "source": [
    "payload = '{\"threshold\": 0.001}'\n",
    "\n",
    "jpayload = json.loads(payload)\n",
    "print json.dumps(jpayload, indent=4, sort_keys=True)"
   ]
  },
  {
   "cell_type": "code",
   "execution_count": 72,
   "metadata": {
    "collapsed": false
   },
   "outputs": [
    {
     "name": "stdout",
     "output_type": "stream",
     "text": [
      "(200, 'OK')\n"
     ]
    }
   ],
   "source": [
    "response = requests.post(final_url, data=payload)\n",
    "print(response.status_code, response.reason) #HTTP - The API call succeeded therefore 200 - 0k"
   ]
  },
  {
   "cell_type": "code",
   "execution_count": 74,
   "metadata": {
    "collapsed": false
   },
   "outputs": [
    {
     "name": "stdout",
     "output_type": "stream",
     "text": [
      "{\n",
      "    \"results\": [], \n",
      "    \"status\": \"MISSING_IMAGES_FIELD\"\n",
      "}\n"
     ]
    }
   ],
   "source": [
    "parsed = json.loads(response.text) #TEXT/HTML\n",
    "print json.dumps(parsed, indent=4, sort_keys=True) # status changed because image field is missing"
   ]
  },
  {
   "cell_type": "code",
   "execution_count": null,
   "metadata": {
    "collapsed": true
   },
   "outputs": [],
   "source": []
  },
  {
   "cell_type": "markdown",
   "metadata": {},
   "source": [
    "Payload with \n",
    "1. url for which download is forbidden"
   ]
  },
  {
   "cell_type": "code",
   "execution_count": 75,
   "metadata": {
    "collapsed": false
   },
   "outputs": [
    {
     "name": "stdout",
     "output_type": "stream",
     "text": [
      "{\n",
      "    \"images\": [\n",
      "        \"http://synchronicityaustralia.com.au/wp-content/uploads/2016/12/sfw_apa_2013_28342_232388_briankushner_blue_jay_kk_high.jpeg\"\n",
      "    ]\n",
      "}\n"
     ]
    }
   ],
   "source": [
    "payload = '{ \"images\": [\"http://synchronicityaustralia.com.au/wp-content/uploads/2016/12/sfw_apa_2013_28342_232388_briankushner_blue_jay_kk_high.jpeg\"]}'\n",
    "\n",
    "jpayload = json.loads(payload)\n",
    "print json.dumps(jpayload, indent=4, sort_keys=True)"
   ]
  },
  {
   "cell_type": "code",
   "execution_count": 76,
   "metadata": {
    "collapsed": false
   },
   "outputs": [
    {
     "name": "stdout",
     "output_type": "stream",
     "text": [
      "(200, 'OK')\n"
     ]
    }
   ],
   "source": [
    "response = requests.post(final_url, data=payload)\n",
    "print(response.status_code, response.reason) #HTTP - The API call succeeded therefore 200 - 0k"
   ]
  },
  {
   "cell_type": "code",
   "execution_count": 77,
   "metadata": {
    "collapsed": false
   },
   "outputs": [
    {
     "name": "stdout",
     "output_type": "stream",
     "text": [
      "{\n",
      "    \"results\": [\n",
      "        {\n",
      "            \"classes\": [], \n",
      "            \"error\": \"IMAGE_DOWNLOAD_ERROR\", \n",
      "            \"url\": \"http://synchronicityaustralia.com.au/wp-content/uploads/2016/12/sfw_apa_2013_28342_232388_briankushner_blue_jay_kk_high.jpeg\"\n",
      "        }\n",
      "    ], \n",
      "    \"status\": \"INPUT_VALIDATION_SUCCESS\"\n",
      "}\n"
     ]
    }
   ],
   "source": [
    "parsed = json.loads(response.text) #TEXT/HTML\n",
    "print json.dumps(parsed, indent=4, sort_keys=True) # image download error "
   ]
  },
  {
   "cell_type": "code",
   "execution_count": null,
   "metadata": {
    "collapsed": true
   },
   "outputs": [],
   "source": []
  },
  {
   "cell_type": "markdown",
   "metadata": {},
   "source": [
    "Payload with \n",
    "1. url for which download is forbidden\n",
    "2. second url was bad\n",
    "3. Third url was good"
   ]
  },
  {
   "cell_type": "code",
   "execution_count": 79,
   "metadata": {
    "collapsed": false
   },
   "outputs": [
    {
     "name": "stdout",
     "output_type": "stream",
     "text": [
      "{\n",
      "    \"images\": [\n",
      "        \"http://synchronicityaustralia.com.au/wp-content/uploads/2016/12/sfw_apa_2013_28342_232388_briankushner_blue_jay_kk_high.jpeg\", \n",
      "        \"https://badurl.com/image3.jpg\", \n",
      "        \"https://upload.wikimedia.org/wikipedia/commons/3/32/House_sparrow04.jpg\"\n",
      "    ]\n",
      "}\n"
     ]
    }
   ],
   "source": [
    "payload = '{ \"images\": [\"http://synchronicityaustralia.com.au/wp-content/uploads/2016/12/sfw_apa_2013_28342_232388_briankushner_blue_jay_kk_high.jpeg\", \"https://badurl.com/image3.jpg\", \"https://upload.wikimedia.org/wikipedia/commons/3/32/House_sparrow04.jpg\"]}'\n",
    "\n",
    "jpayload = json.loads(payload)\n",
    "print json.dumps(jpayload, indent=4, sort_keys=True)"
   ]
  },
  {
   "cell_type": "code",
   "execution_count": 80,
   "metadata": {
    "collapsed": false
   },
   "outputs": [
    {
     "name": "stdout",
     "output_type": "stream",
     "text": [
      "(200, 'OK')\n"
     ]
    }
   ],
   "source": [
    "response = requests.post(final_url, data=payload)\n",
    "print(response.status_code, response.reason) #HTTP - The API call succeeded therefore 200 - 0k"
   ]
  },
  {
   "cell_type": "code",
   "execution_count": 81,
   "metadata": {
    "collapsed": false
   },
   "outputs": [
    {
     "name": "stdout",
     "output_type": "stream",
     "text": [
      "{\n",
      "    \"results\": [\n",
      "        {\n",
      "            \"classes\": [], \n",
      "            \"error\": \"IMAGE_DOWNLOAD_ERROR\", \n",
      "            \"url\": \"http://synchronicityaustralia.com.au/wp-content/uploads/2016/12/sfw_apa_2013_28342_232388_briankushner_blue_jay_kk_high.jpeg\"\n",
      "        }, \n",
      "        {\n",
      "            \"classes\": [\n",
      "                {\n",
      "                    \"class\": \"brambling\", \n",
      "                    \"confidence\": \"0.634\"\n",
      "                }, \n",
      "                {\n",
      "                    \"class\": \"junco\", \n",
      "                    \"confidence\": \"0.279\"\n",
      "                }, \n",
      "                {\n",
      "                    \"class\": \"ptarmigan\", \n",
      "                    \"confidence\": \"0.043\"\n",
      "                }, \n",
      "                {\n",
      "                    \"class\": \"house_finch\", \n",
      "                    \"confidence\": \"0.01\"\n",
      "                }, \n",
      "                {\n",
      "                    \"class\": \"ruddy_turnstone\", \n",
      "                    \"confidence\": \"0.008\"\n",
      "                }\n",
      "            ], \n",
      "            \"url\": \"https://upload.wikimedia.org/wikipedia/commons/3/32/House_sparrow04.jpg\"\n",
      "        }, \n",
      "        {\n",
      "            \"classes\": [], \n",
      "            \"error\": \"IMAGE_DOWNLOAD_ERROR\", \n",
      "            \"url\": \"https://badurl.com/image3.jpg\"\n",
      "        }\n",
      "    ], \n",
      "    \"status\": \"INPUT_VALIDATION_SUCCESS\"\n",
      "}\n"
     ]
    }
   ],
   "source": [
    "parsed = json.loads(response.text) #TEXT/HTML\n",
    "print json.dumps(parsed, indent=4, sort_keys=True) # 2 urls with no response one with correct response"
   ]
  },
  {
   "cell_type": "code",
   "execution_count": null,
   "metadata": {
    "collapsed": true
   },
   "outputs": [],
   "source": []
  },
  {
   "cell_type": "markdown",
   "metadata": {},
   "source": [
    "Payload\n",
    "1. url not pointing to jpg or jpeg ( other image formats are not allowed )"
   ]
  },
  {
   "cell_type": "code",
   "execution_count": 82,
   "metadata": {
    "collapsed": false
   },
   "outputs": [
    {
     "name": "stdout",
     "output_type": "stream",
     "text": [
      "{\n",
      "    \"images\": [\n",
      "        \"https://orig03.deviantart.net/ae59/f/2009/205/e/4/free_cat_png_by_absurdwordpreferred.png\"\n",
      "    ]\n",
      "}\n"
     ]
    }
   ],
   "source": [
    "payload = '{ \"images\": [\"https://orig03.deviantart.net/ae59/f/2009/205/e/4/free_cat_png_by_absurdwordpreferred.png\"]}'\n",
    "\n",
    "jpayload = json.loads(payload)\n",
    "print json.dumps(jpayload, indent=4, sort_keys=True)"
   ]
  },
  {
   "cell_type": "code",
   "execution_count": 83,
   "metadata": {
    "collapsed": false
   },
   "outputs": [
    {
     "name": "stdout",
     "output_type": "stream",
     "text": [
      "(200, 'OK')\n"
     ]
    }
   ],
   "source": [
    "response = requests.post(final_url, data=payload)\n",
    "print(response.status_code, response.reason) #HTTP - The API call succeeded therefore 200 - 0k"
   ]
  },
  {
   "cell_type": "code",
   "execution_count": 84,
   "metadata": {
    "collapsed": false
   },
   "outputs": [
    {
     "name": "stdout",
     "output_type": "stream",
     "text": [
      "{\n",
      "    \"results\": [], \n",
      "    \"status\": \"INPUT_VALIDATION_FAILED\"\n",
      "}\n"
     ]
    }
   ],
   "source": [
    "parsed = json.loads(response.text) #TEXT/HTML\n",
    "print json.dumps(parsed, indent=4, sort_keys=True) # input is invalid"
   ]
  },
  {
   "cell_type": "code",
   "execution_count": null,
   "metadata": {
    "collapsed": true
   },
   "outputs": [],
   "source": []
  },
  {
   "cell_type": "markdown",
   "metadata": {},
   "source": [
    "Payload\n",
    "1. Pointing to a site not an image location\n"
   ]
  },
  {
   "cell_type": "code",
   "execution_count": 85,
   "metadata": {
    "collapsed": false
   },
   "outputs": [
    {
     "name": "stdout",
     "output_type": "stream",
     "text": [
      "{\n",
      "    \"images\": [\n",
      "        \"http://www.google.com\"\n",
      "    ]\n",
      "}\n"
     ]
    }
   ],
   "source": [
    "payload = '{ \"images\": [\"http://www.google.com\"]}'\n",
    "\n",
    "jpayload = json.loads(payload)\n",
    "print json.dumps(jpayload, indent=4, sort_keys=True)"
   ]
  },
  {
   "cell_type": "code",
   "execution_count": 86,
   "metadata": {
    "collapsed": false
   },
   "outputs": [
    {
     "name": "stdout",
     "output_type": "stream",
     "text": [
      "(200, 'OK')\n"
     ]
    }
   ],
   "source": [
    "response = requests.post(final_url, data=payload)\n",
    "print(response.status_code, response.reason) #HTTP - The API call succeeded therefore 200 - 0k"
   ]
  },
  {
   "cell_type": "code",
   "execution_count": 87,
   "metadata": {
    "collapsed": false
   },
   "outputs": [
    {
     "name": "stdout",
     "output_type": "stream",
     "text": [
      "{\n",
      "    \"results\": [], \n",
      "    \"status\": \"INPUT_VALIDATION_FAILED\"\n",
      "}\n"
     ]
    }
   ],
   "source": [
    "parsed = json.loads(response.text) #TEXT/HTML\n",
    "print json.dumps(parsed, indent=4, sort_keys=True) # input is invalid"
   ]
  },
  {
   "cell_type": "code",
   "execution_count": null,
   "metadata": {
    "collapsed": true
   },
   "outputs": [],
   "source": []
  },
  {
   "cell_type": "markdown",
   "metadata": {},
   "source": [
    "Payload\n",
    "1. With good url \n",
    "2. One url with invalid image type"
   ]
  },
  {
   "cell_type": "code",
   "execution_count": 91,
   "metadata": {
    "collapsed": false
   },
   "outputs": [
    {
     "name": "stdout",
     "output_type": "stream",
     "text": [
      "{\n",
      "    \"images\": [\n",
      "        \"https://orig03.deviantart.net/ae59/f/2009/205/e/4/free_cat_png_by_absurdwordpreferred.png\", \n",
      "        \"https://upload.wikimedia.org/wikipedia/commons/3/32/House_sparrow04.jpg\"\n",
      "    ]\n",
      "}\n"
     ]
    }
   ],
   "source": [
    "payload = '{ \"images\": [\"https://orig03.deviantart.net/ae59/f/2009/205/e/4/free_cat_png_by_absurdwordpreferred.png\", \"https://upload.wikimedia.org/wikipedia/commons/3/32/House_sparrow04.jpg\"]}'\n",
    "\n",
    "jpayload = json.loads(payload)\n",
    "print json.dumps(jpayload, indent=4, sort_keys=True)"
   ]
  },
  {
   "cell_type": "code",
   "execution_count": 92,
   "metadata": {
    "collapsed": false
   },
   "outputs": [
    {
     "name": "stdout",
     "output_type": "stream",
     "text": [
      "(200, 'OK')\n"
     ]
    }
   ],
   "source": [
    "response = requests.post(final_url, data=payload)\n",
    "print(response.status_code, response.reason) #HTTP - The API call succeeded therefore 200 - 0k"
   ]
  },
  {
   "cell_type": "code",
   "execution_count": 93,
   "metadata": {
    "collapsed": false
   },
   "outputs": [
    {
     "name": "stdout",
     "output_type": "stream",
     "text": [
      "{\n",
      "    \"results\": [\n",
      "        {\n",
      "            \"classes\": [\n",
      "                {\n",
      "                    \"class\": \"brambling\", \n",
      "                    \"confidence\": \"0.634\"\n",
      "                }, \n",
      "                {\n",
      "                    \"class\": \"junco\", \n",
      "                    \"confidence\": \"0.279\"\n",
      "                }, \n",
      "                {\n",
      "                    \"class\": \"ptarmigan\", \n",
      "                    \"confidence\": \"0.043\"\n",
      "                }, \n",
      "                {\n",
      "                    \"class\": \"house_finch\", \n",
      "                    \"confidence\": \"0.01\"\n",
      "                }, \n",
      "                {\n",
      "                    \"class\": \"ruddy_turnstone\", \n",
      "                    \"confidence\": \"0.008\"\n",
      "                }\n",
      "            ], \n",
      "            \"url\": \"https://upload.wikimedia.org/wikipedia/commons/3/32/House_sparrow04.jpg\"\n",
      "        }\n",
      "    ], \n",
      "    \"status\": \"INPUT_VALIDATION_FAILED\"\n",
      "}\n"
     ]
    }
   ],
   "source": [
    "parsed = json.loads(response.text) #TEXT/HTML\n",
    "print json.dumps(parsed, indent=4, sort_keys=True) # input is invalid as we have invalid image format detection request\n",
    "# All urls of images were not valid so only presented results for valid one"
   ]
  },
  {
   "cell_type": "code",
   "execution_count": null,
   "metadata": {
    "collapsed": true
   },
   "outputs": [],
   "source": []
  },
  {
   "cell_type": "markdown",
   "metadata": {},
   "source": [
    "Payload\n",
    "1. with weird input\n"
   ]
  },
  {
   "cell_type": "code",
   "execution_count": 94,
   "metadata": {
    "collapsed": false
   },
   "outputs": [
    {
     "name": "stdout",
     "output_type": "stream",
     "text": [
      "{\n",
      "    \"images\": [\n",
      "        \"/home/centos/caffe/imagerepo/112105907687991_House_sparrow04.jpg\"\n",
      "    ]\n",
      "}\n"
     ]
    }
   ],
   "source": [
    "payload = '{ \"images\": [\"/home/centos/caffe/imagerepo/112105907687991_House_sparrow04.jpg\"]}'\n",
    "\n",
    "jpayload = json.loads(payload)\n",
    "print json.dumps(jpayload, indent=4, sort_keys=True)"
   ]
  },
  {
   "cell_type": "code",
   "execution_count": 95,
   "metadata": {
    "collapsed": false
   },
   "outputs": [
    {
     "name": "stdout",
     "output_type": "stream",
     "text": [
      "(200, 'OK')\n"
     ]
    }
   ],
   "source": [
    "response = requests.post(final_url, data=payload)\n",
    "print(response.status_code, response.reason) #HTTP - The API call succeeded therefore 200 - 0k"
   ]
  },
  {
   "cell_type": "code",
   "execution_count": 96,
   "metadata": {
    "collapsed": false
   },
   "outputs": [
    {
     "name": "stdout",
     "output_type": "stream",
     "text": [
      "{\n",
      "    \"results\": [], \n",
      "    \"status\": \"INPUT_VALIDATION_FAILED\"\n",
      "}\n"
     ]
    }
   ],
   "source": [
    "parsed = json.loads(response.text) #TEXT/HTML\n",
    "print json.dumps(parsed, indent=4, sort_keys=True) # Input is not valid hence error"
   ]
  },
  {
   "cell_type": "code",
   "execution_count": 104,
   "metadata": {
    "collapsed": false
   },
   "outputs": [],
   "source": [
    "fp = open('/tmp/url.txt')\n",
    "images = []\n",
    "for line in fp:\n",
    "    rline = line.strip()\n",
    "    images.append(rline)\n",
    "payload = { \"images\": images }\n",
    "\n",
    "strpayload = json.dumps(payload)"
   ]
  },
  {
   "cell_type": "code",
   "execution_count": 107,
   "metadata": {
    "collapsed": false
   },
   "outputs": [
    {
     "data": {
      "text/plain": [
       "'{\"images\": [\"http://farm4.static.flickr.com/3040/2946102733_9b9c9cf24e.jpg\", \"http://farm3.static.flickr.com/2093/2288303747_c62c007531.jpg\", \"http://www.theresevangelder.nl/images/dierenportretten/dier4.jpg\", \"http://lelapintan.webs.com/LogoNHD%20klein.jpg\", \"http://www.zuidafrikaonline.nl/images/zuid-afrika-reis-giraffe.jpg\", \"http://farm1.static.flickr.com/145/430300483_21e993670c.jpg\", \"http://farm2.static.flickr.com/1005/3352960681_37b9c1d27b.jpg\", \"http://farm1.static.flickr.com/27/51009336_a9663af3dd.jpg\", \"http://farm4.static.flickr.com/3025/2444687979_bf7bc8df21.jpg\", \"http://img100.imageshack.us/img100/3253/forrest004fs9.jpg\", \"http://img172.imageshack.us/img172/4606/napo03072en9.jpg\", \"http://fotootjesvanannelies.web-log.nl/olifantfotootjes/images/2008/06/04/img_8870.jpg\", \"http://www.deweekkrant.nl/images/library/pictures/4f/2e/a5/cf/2_3d81b762a5e8a345bbb1f0884fab2e9762146129.jpg\", \"http://www.porschemania.it/discus/messages/815/102099.jpg\", \"http://farm1.static.flickr.com/72/225029238_805b0937ca.jpg\", \"http://farm2.static.flickr.com/1128/1432436038_6c131f1bb0.jpg\", \"http://farm4.static.flickr.com/3217/2942611930_d68204f726.jpg\", \"http://farm1.static.flickr.com/29/54608382_ee8bd4f7fa.jpg\", \"http://www.dierentuin.nl/images/jongengiraffe.jpg\", \"http://farm4.static.flickr.com/3279/3118047175_259ab89c92.jpg\", \"http://farm4.static.flickr.com/3271/2496428562_90b5cb82a6.jpg\", \"http://farm2.static.flickr.com/1115/703274169_5ef9b9dfc9.jpg\", \"http://farm1.static.flickr.com/70/200362625_938f8f06a7.jpg\", \"http://farm1.static.flickr.com/180/370761991_7249dc2f90.jpg\", \"http://farm3.static.flickr.com/2197/1659368303_4dbf9b312a.jpg\", \"http://home.planet.nl/~huske073/Dieren/dier-sita.jpg\", \"http://www.joanranquet.com/images/AnimalNews-Lupinsm.jpg\", \"http://www.wereldomroep.nl/images/assets/10707839\", \"http://farm4.static.flickr.com/3231/2858342976_847bded41a.jpg\", \"http://farm3.static.flickr.com/2188/2086791140_e7dbd81b56.jpg\"]}'"
      ]
     },
     "execution_count": 107,
     "metadata": {},
     "output_type": "execute_result"
    }
   ],
   "source": [
    "strpayload"
   ]
  },
  {
   "cell_type": "code",
   "execution_count": 106,
   "metadata": {
    "collapsed": false
   },
   "outputs": [
    {
     "name": "stdout",
     "output_type": "stream",
     "text": [
      "(200, 'OK')\n"
     ]
    }
   ],
   "source": [
    "response = requests.post(final_url, data=strpayload)\n",
    "print(response.status_code, response.reason) #HTTP - The API call succeeded therefore 200 - 0k"
   ]
  },
  {
   "cell_type": "code",
   "execution_count": 108,
   "metadata": {
    "collapsed": false
   },
   "outputs": [
    {
     "name": "stdout",
     "output_type": "stream",
     "text": [
      "{\n",
      "    \"results\": [\n",
      "        {\n",
      "            \"classes\": [], \n",
      "            \"error\": \"IMAGE_DOWNLOAD_ERROR\", \n",
      "            \"url\": \"http://www.dierentuin.nl/images/jongengiraffe.jpg\"\n",
      "        }, \n",
      "        {\n",
      "            \"classes\": [\n",
      "                {\n",
      "                    \"class\": \"norwegian_elkhound\", \n",
      "                    \"confidence\": \"0.1616\"\n",
      "                }, \n",
      "                {\n",
      "                    \"class\": \"howler_monkey\", \n",
      "                    \"confidence\": \"0.0949\"\n",
      "                }, \n",
      "                {\n",
      "                    \"class\": \"malinois\", \n",
      "                    \"confidence\": \"0.0815\"\n",
      "                }, \n",
      "                {\n",
      "                    \"class\": \"border_terrier\", \n",
      "                    \"confidence\": \"0.075\"\n",
      "                }, \n",
      "                {\n",
      "                    \"class\": \"chimpanzee\", \n",
      "                    \"confidence\": \"0.0692\"\n",
      "                }\n",
      "            ], \n",
      "            \"url\": \"http://farm1.static.flickr.com/29/54608382_ee8bd4f7fa.jpg\"\n",
      "        }, \n",
      "        {\n",
      "            \"classes\": [\n",
      "                {\n",
      "                    \"class\": \"english_springer\", \n",
      "                    \"confidence\": \"0.5214\"\n",
      "                }, \n",
      "                {\n",
      "                    \"class\": \"boston_bull\", \n",
      "                    \"confidence\": \"0.1434\"\n",
      "                }, \n",
      "                {\n",
      "                    \"class\": \"border_collie\", \n",
      "                    \"confidence\": \"0.076\"\n",
      "                }, \n",
      "                {\n",
      "                    \"class\": \"french_bulldog\", \n",
      "                    \"confidence\": \"0.0238\"\n",
      "                }, \n",
      "                {\n",
      "                    \"class\": \"english_setter\", \n",
      "                    \"confidence\": \"0.0229\"\n",
      "                }\n",
      "            ], \n",
      "            \"url\": \"http://farm2.static.flickr.com/1005/3352960681_37b9c1d27b.jpg\"\n",
      "        }, \n",
      "        {\n",
      "            \"classes\": [\n",
      "                {\n",
      "                    \"class\": \"tiger\", \n",
      "                    \"confidence\": \"0.9081\"\n",
      "                }, \n",
      "                {\n",
      "                    \"class\": \"tiger_cat\", \n",
      "                    \"confidence\": \"0.0917\"\n",
      "                }, \n",
      "                {\n",
      "                    \"class\": \"tabby\", \n",
      "                    \"confidence\": \"0.0001\"\n",
      "                }, \n",
      "                {\n",
      "                    \"class\": \"zebra\", \n",
      "                    \"confidence\": \"0.0\"\n",
      "                }, \n",
      "                {\n",
      "                    \"class\": \"jaguar\", \n",
      "                    \"confidence\": \"0.0\"\n",
      "                }\n",
      "            ], \n",
      "            \"url\": \"http://farm1.static.flickr.com/72/225029238_805b0937ca.jpg\"\n",
      "        }, \n",
      "        {\n",
      "            \"classes\": [], \n",
      "            \"error\": \"IMAGE_DOWNLOAD_ERROR\", \n",
      "            \"url\": \"http://img172.imageshack.us/img172/4606/napo03072en9.jpg\"\n",
      "        }, \n",
      "        {\n",
      "            \"classes\": [\n",
      "                {\n",
      "                    \"class\": \"cock\", \n",
      "                    \"confidence\": \"0.9789\"\n",
      "                }, \n",
      "                {\n",
      "                    \"class\": \"hen\", \n",
      "                    \"confidence\": \"0.0157\"\n",
      "                }, \n",
      "                {\n",
      "                    \"class\": \"house_finch\", \n",
      "                    \"confidence\": \"0.0025\"\n",
      "                }, \n",
      "                {\n",
      "                    \"class\": \"macaw\", \n",
      "                    \"confidence\": \"0.0024\"\n",
      "                }, \n",
      "                {\n",
      "                    \"class\": \"european_gallinule\", \n",
      "                    \"confidence\": \"0.0002\"\n",
      "                }\n",
      "            ], \n",
      "            \"url\": \"http://farm1.static.flickr.com/70/200362625_938f8f06a7.jpg\"\n",
      "        }, \n",
      "        {\n",
      "            \"classes\": [\n",
      "                {\n",
      "                    \"class\": \"envelope\", \n",
      "                    \"confidence\": \"0.888\"\n",
      "                }, \n",
      "                {\n",
      "                    \"class\": \"analog_clock\", \n",
      "                    \"confidence\": \"0.0129\"\n",
      "                }, \n",
      "                {\n",
      "                    \"class\": \"rule\", \n",
      "                    \"confidence\": \"0.0094\"\n",
      "                }, \n",
      "                {\n",
      "                    \"class\": \"notebook\", \n",
      "                    \"confidence\": \"0.0072\"\n",
      "                }, \n",
      "                {\n",
      "                    \"class\": \"web_site\", \n",
      "                    \"confidence\": \"0.0063\"\n",
      "                }\n",
      "            ], \n",
      "            \"url\": \"http://farm4.static.flickr.com/3279/3118047175_259ab89c92.jpg\"\n",
      "        }, \n",
      "        {\n",
      "            \"classes\": [\n",
      "                {\n",
      "                    \"class\": \"orangutan\", \n",
      "                    \"confidence\": \"0.1591\"\n",
      "                }, \n",
      "                {\n",
      "                    \"class\": \"wallaby\", \n",
      "                    \"confidence\": \"0.1384\"\n",
      "                }, \n",
      "                {\n",
      "                    \"class\": \"macaque\", \n",
      "                    \"confidence\": \"0.1031\"\n",
      "                }, \n",
      "                {\n",
      "                    \"class\": \"cougar\", \n",
      "                    \"confidence\": \"0.0716\"\n",
      "                }, \n",
      "                {\n",
      "                    \"class\": \"marmot\", \n",
      "                    \"confidence\": \"0.0646\"\n",
      "                }\n",
      "            ], \n",
      "            \"url\": \"http://farm2.static.flickr.com/1115/703274169_5ef9b9dfc9.jpg\"\n",
      "        }, \n",
      "        {\n",
      "            \"classes\": [\n",
      "                {\n",
      "                    \"class\": \"envelope\", \n",
      "                    \"confidence\": \"0.888\"\n",
      "                }, \n",
      "                {\n",
      "                    \"class\": \"analog_clock\", \n",
      "                    \"confidence\": \"0.0129\"\n",
      "                }, \n",
      "                {\n",
      "                    \"class\": \"rule\", \n",
      "                    \"confidence\": \"0.0094\"\n",
      "                }, \n",
      "                {\n",
      "                    \"class\": \"notebook\", \n",
      "                    \"confidence\": \"0.0072\"\n",
      "                }, \n",
      "                {\n",
      "                    \"class\": \"web_site\", \n",
      "                    \"confidence\": \"0.0063\"\n",
      "                }\n",
      "            ], \n",
      "            \"url\": \"http://farm4.static.flickr.com/3040/2946102733_9b9c9cf24e.jpg\"\n",
      "        }, \n",
      "        {\n",
      "            \"classes\": [\n",
      "                {\n",
      "                    \"class\": \"afghan_hound\", \n",
      "                    \"confidence\": \"0.1412\"\n",
      "                }, \n",
      "                {\n",
      "                    \"class\": \"giant_schnauzer\", \n",
      "                    \"confidence\": \"0.098\"\n",
      "                }, \n",
      "                {\n",
      "                    \"class\": \"schipperke\", \n",
      "                    \"confidence\": \"0.0533\"\n",
      "                }, \n",
      "                {\n",
      "                    \"class\": \"scotch_terrier\", \n",
      "                    \"confidence\": \"0.0469\"\n",
      "                }, \n",
      "                {\n",
      "                    \"class\": \"kerry_blue_terrier\", \n",
      "                    \"confidence\": \"0.0418\"\n",
      "                }\n",
      "            ], \n",
      "            \"url\": \"http://farm4.static.flickr.com/3217/2942611930_d68204f726.jpg\"\n",
      "        }, \n",
      "        {\n",
      "            \"classes\": [\n",
      "                {\n",
      "                    \"class\": \"piggy_bank\", \n",
      "                    \"confidence\": \"0.1701\"\n",
      "                }, \n",
      "                {\n",
      "                    \"class\": \"boxer\", \n",
      "                    \"confidence\": \"0.1368\"\n",
      "                }, \n",
      "                {\n",
      "                    \"class\": \"american_staffordshire_terrier\", \n",
      "                    \"confidence\": \"0.1344\"\n",
      "                }, \n",
      "                {\n",
      "                    \"class\": \"chihuahua\", \n",
      "                    \"confidence\": \"0.1041\"\n",
      "                }, \n",
      "                {\n",
      "                    \"class\": \"hog\", \n",
      "                    \"confidence\": \"0.0564\"\n",
      "                }\n",
      "            ], \n",
      "            \"url\": \"http://farm3.static.flickr.com/2197/1659368303_4dbf9b312a.jpg\"\n",
      "        }, \n",
      "        {\n",
      "            \"classes\": [\n",
      "                {\n",
      "                    \"class\": \"bald_eagle\", \n",
      "                    \"confidence\": \"0.9939\"\n",
      "                }, \n",
      "                {\n",
      "                    \"class\": \"kite\", \n",
      "                    \"confidence\": \"0.0056\"\n",
      "                }, \n",
      "                {\n",
      "                    \"class\": \"vulture\", \n",
      "                    \"confidence\": \"0.0005\"\n",
      "                }, \n",
      "                {\n",
      "                    \"class\": \"hornbill\", \n",
      "                    \"confidence\": \"0.0\"\n",
      "                }, \n",
      "                {\n",
      "                    \"class\": \"white_stork\", \n",
      "                    \"confidence\": \"0.0\"\n",
      "                }\n",
      "            ], \n",
      "            \"url\": \"http://farm1.static.flickr.com/145/430300483_21e993670c.jpg\"\n",
      "        }, \n",
      "        {\n",
      "            \"classes\": [], \n",
      "            \"error\": \"IMAGE_DOWNLOAD_ERROR\", \n",
      "            \"url\": \"http://www.deweekkrant.nl/images/library/pictures/4f/2e/a5/cf/2_3d81b762a5e8a345bbb1f0884fab2e9762146129.jpg\"\n",
      "        }, \n",
      "        {\n",
      "            \"classes\": [], \n",
      "            \"error\": \"IMAGE_DOWNLOAD_ERROR\", \n",
      "            \"url\": \"http://img100.imageshack.us/img100/3253/forrest004fs9.jpg\"\n",
      "        }, \n",
      "        {\n",
      "            \"classes\": [\n",
      "                {\n",
      "                    \"class\": \"peacock\", \n",
      "                    \"confidence\": \"0.9998\"\n",
      "                }, \n",
      "                {\n",
      "                    \"class\": \"drake\", \n",
      "                    \"confidence\": \"0.0001\"\n",
      "                }, \n",
      "                {\n",
      "                    \"class\": \"european_gallinule\", \n",
      "                    \"confidence\": \"0.0\"\n",
      "                }, \n",
      "                {\n",
      "                    \"class\": \"indigo_bunting\", \n",
      "                    \"confidence\": \"0.0\"\n",
      "                }, \n",
      "                {\n",
      "                    \"class\": \"jay\", \n",
      "                    \"confidence\": \"0.0\"\n",
      "                }\n",
      "            ], \n",
      "            \"url\": \"http://farm1.static.flickr.com/27/51009336_a9663af3dd.jpg\"\n",
      "        }, \n",
      "        {\n",
      "            \"classes\": [], \n",
      "            \"error\": \"IMAGE_DOWNLOAD_ERROR\", \n",
      "            \"url\": \"http://www.zuidafrikaonline.nl/images/zuid-afrika-reis-giraffe.jpg\"\n",
      "        }, \n",
      "        {\n",
      "            \"classes\": [], \n",
      "            \"error\": \"IMAGE_DOWNLOAD_ERROR\", \n",
      "            \"url\": \"http://www.joanranquet.com/images/AnimalNews-Lupinsm.jpg\"\n",
      "        }, \n",
      "        {\n",
      "            \"classes\": [], \n",
      "            \"error\": \"IMAGE_DOWNLOAD_ERROR\", \n",
      "            \"url\": \"http://lelapintan.webs.com/LogoNHD%20klein.jpg\"\n",
      "        }, \n",
      "        {\n",
      "            \"classes\": [], \n",
      "            \"error\": \"IMAGE_DOWNLOAD_ERROR\", \n",
      "            \"url\": \"http://fotootjesvanannelies.web-log.nl/olifantfotootjes/images/2008/06/04/img_8870.jpg\"\n",
      "        }, \n",
      "        {\n",
      "            \"classes\": [], \n",
      "            \"error\": \"IMAGE_DOWNLOAD_ERROR\", \n",
      "            \"url\": \"http://www.theresevangelder.nl/images/dierenportretten/dier4.jpg\"\n",
      "        }, \n",
      "        {\n",
      "            \"classes\": [\n",
      "                {\n",
      "                    \"class\": \"peacock\", \n",
      "                    \"confidence\": \"0.6167\"\n",
      "                }, \n",
      "                {\n",
      "                    \"class\": \"fountain\", \n",
      "                    \"confidence\": \"0.3525\"\n",
      "                }, \n",
      "                {\n",
      "                    \"class\": \"broom\", \n",
      "                    \"confidence\": \"0.0061\"\n",
      "                }, \n",
      "                {\n",
      "                    \"class\": \"quill\", \n",
      "                    \"confidence\": \"0.0041\"\n",
      "                }, \n",
      "                {\n",
      "                    \"class\": \"swab\", \n",
      "                    \"confidence\": \"0.0038\"\n",
      "                }\n",
      "            ], \n",
      "            \"url\": \"http://farm4.static.flickr.com/3025/2444687979_bf7bc8df21.jpg\"\n",
      "        }, \n",
      "        {\n",
      "            \"classes\": [\n",
      "                {\n",
      "                    \"class\": \"envelope\", \n",
      "                    \"confidence\": \"0.888\"\n",
      "                }, \n",
      "                {\n",
      "                    \"class\": \"analog_clock\", \n",
      "                    \"confidence\": \"0.0129\"\n",
      "                }, \n",
      "                {\n",
      "                    \"class\": \"rule\", \n",
      "                    \"confidence\": \"0.0094\"\n",
      "                }, \n",
      "                {\n",
      "                    \"class\": \"notebook\", \n",
      "                    \"confidence\": \"0.0072\"\n",
      "                }, \n",
      "                {\n",
      "                    \"class\": \"web_site\", \n",
      "                    \"confidence\": \"0.0063\"\n",
      "                }\n",
      "            ], \n",
      "            \"url\": \"http://farm3.static.flickr.com/2093/2288303747_c62c007531.jpg\"\n",
      "        }, \n",
      "        {\n",
      "            \"classes\": [\n",
      "                {\n",
      "                    \"class\": \"leopard\", \n",
      "                    \"confidence\": \"0.7372\"\n",
      "                }, \n",
      "                {\n",
      "                    \"class\": \"jaguar\", \n",
      "                    \"confidence\": \"0.2595\"\n",
      "                }, \n",
      "                {\n",
      "                    \"class\": \"cheetah\", \n",
      "                    \"confidence\": \"0.0018\"\n",
      "                }, \n",
      "                {\n",
      "                    \"class\": \"snow_leopard\", \n",
      "                    \"confidence\": \"0.0011\"\n",
      "                }, \n",
      "                {\n",
      "                    \"class\": \"tiger\", \n",
      "                    \"confidence\": \"0.0003\"\n",
      "                }\n",
      "            ], \n",
      "            \"url\": \"http://farm3.static.flickr.com/2188/2086791140_e7dbd81b56.jpg\"\n",
      "        }, \n",
      "        {\n",
      "            \"classes\": [\n",
      "                {\n",
      "                    \"class\": \"kite\", \n",
      "                    \"confidence\": \"0.2034\"\n",
      "                }, \n",
      "                {\n",
      "                    \"class\": \"ruffed_grouse\", \n",
      "                    \"confidence\": \"0.1278\"\n",
      "                }, \n",
      "                {\n",
      "                    \"class\": \"limpkin\", \n",
      "                    \"confidence\": \"0.1165\"\n",
      "                }, \n",
      "                {\n",
      "                    \"class\": \"coucal\", \n",
      "                    \"confidence\": \"0.1052\"\n",
      "                }, \n",
      "                {\n",
      "                    \"class\": \"hornbill\", \n",
      "                    \"confidence\": \"0.0895\"\n",
      "                }\n",
      "            ], \n",
      "            \"url\": \"http://farm1.static.flickr.com/180/370761991_7249dc2f90.jpg\"\n",
      "        }, \n",
      "        {\n",
      "            \"classes\": [], \n",
      "            \"error\": \"IMAGE_DOWNLOAD_ERROR\", \n",
      "            \"url\": \"http://home.planet.nl/~huske073/Dieren/dier-sita.jpg\"\n",
      "        }, \n",
      "        {\n",
      "            \"classes\": [\n",
      "                {\n",
      "                    \"class\": \"tiger_cat\", \n",
      "                    \"confidence\": \"0.5148\"\n",
      "                }, \n",
      "                {\n",
      "                    \"class\": \"tiger\", \n",
      "                    \"confidence\": \"0.2747\"\n",
      "                }, \n",
      "                {\n",
      "                    \"class\": \"hen\", \n",
      "                    \"confidence\": \"0.0313\"\n",
      "                }, \n",
      "                {\n",
      "                    \"class\": \"irish_setter\", \n",
      "                    \"confidence\": \"0.0219\"\n",
      "                }, \n",
      "                {\n",
      "                    \"class\": \"brittany_spaniel\", \n",
      "                    \"confidence\": \"0.0143\"\n",
      "                }\n",
      "            ], \n",
      "            \"url\": \"http://farm4.static.flickr.com/3271/2496428562_90b5cb82a6.jpg\"\n",
      "        }, \n",
      "        {\n",
      "            \"classes\": [\n",
      "                {\n",
      "                    \"class\": \"terrapin\", \n",
      "                    \"confidence\": \"0.5211\"\n",
      "                }, \n",
      "                {\n",
      "                    \"class\": \"mud_turtle\", \n",
      "                    \"confidence\": \"0.3107\"\n",
      "                }, \n",
      "                {\n",
      "                    \"class\": \"box_turtle\", \n",
      "                    \"confidence\": \"0.1581\"\n",
      "                }, \n",
      "                {\n",
      "                    \"class\": \"loggerhead\", \n",
      "                    \"confidence\": \"0.0081\"\n",
      "                }, \n",
      "                {\n",
      "                    \"class\": \"chiton\", \n",
      "                    \"confidence\": \"0.0011\"\n",
      "                }\n",
      "            ], \n",
      "            \"url\": \"http://farm4.static.flickr.com/3231/2858342976_847bded41a.jpg\"\n",
      "        }, \n",
      "        {\n",
      "            \"classes\": [], \n",
      "            \"error\": \"IMAGE_DOWNLOAD_ERROR\", \n",
      "            \"url\": \"http://www.porschemania.it/discus/messages/815/102099.jpg\"\n",
      "        }, \n",
      "        {\n",
      "            \"classes\": [\n",
      "                {\n",
      "                    \"class\": \"marmot\", \n",
      "                    \"confidence\": \"0.914\"\n",
      "                }, \n",
      "                {\n",
      "                    \"class\": \"mongoose\", \n",
      "                    \"confidence\": \"0.0785\"\n",
      "                }, \n",
      "                {\n",
      "                    \"class\": \"beaver\", \n",
      "                    \"confidence\": \"0.0048\"\n",
      "                }, \n",
      "                {\n",
      "                    \"class\": \"otter\", \n",
      "                    \"confidence\": \"0.0011\"\n",
      "                }, \n",
      "                {\n",
      "                    \"class\": \"meerkat\", \n",
      "                    \"confidence\": \"0.0007\"\n",
      "                }\n",
      "            ], \n",
      "            \"url\": \"http://farm2.static.flickr.com/1128/1432436038_6c131f1bb0.jpg\"\n",
      "        }\n",
      "    ], \n",
      "    \"status\": \"INPUT_VALIDATION_FAILED\"\n",
      "}\n"
     ]
    }
   ],
   "source": [
    "parsed = json.loads(response.text) #TEXT/HTML\n",
    "print json.dumps(parsed, indent=4, sort_keys=True) # Look 30 images to test for some download failed, for rest result here"
   ]
  },
  {
   "cell_type": "code",
   "execution_count": null,
   "metadata": {
    "collapsed": true
   },
   "outputs": [],
   "source": []
  }
 ],
 "metadata": {
  "kernelspec": {
   "display_name": "Python 2",
   "language": "python",
   "name": "python2"
  },
  "language_info": {
   "codemirror_mode": {
    "name": "ipython",
    "version": 2
   },
   "file_extension": ".py",
   "mimetype": "text/x-python",
   "name": "python",
   "nbconvert_exporter": "python",
   "pygments_lexer": "ipython2",
   "version": "2.7.13"
  }
 },
 "nbformat": 4,
 "nbformat_minor": 2
}
